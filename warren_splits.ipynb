{
 "cells": [
  {
   "cell_type": "code",
   "execution_count": 15,
   "metadata": {
    "collapsed": true
   },
   "outputs": [],
   "source": [
    "import pandas as pd\n",
    "import numpy as np\n",
    "import matplotlib.pyplot as plt\n",
    "import seaborn as sns\n",
    "import math\n",
    "import operator"
   ]
  },
  {
   "cell_type": "code",
   "execution_count": 44,
   "metadata": {},
   "outputs": [
    {
     "data": {
      "text/html": [
       "<div>\n",
       "<style scoped>\n",
       "    .dataframe tbody tr th:only-of-type {\n",
       "        vertical-align: middle;\n",
       "    }\n",
       "\n",
       "    .dataframe tbody tr th {\n",
       "        vertical-align: top;\n",
       "    }\n",
       "\n",
       "    .dataframe thead th {\n",
       "        text-align: right;\n",
       "    }\n",
       "</style>\n",
       "<table border=\"1\" class=\"dataframe\">\n",
       "  <thead>\n",
       "    <tr style=\"text-align: right;\">\n",
       "      <th></th>\n",
       "      <th>State</th>\n",
       "      <th>Delegates</th>\n",
       "      <th>Biden</th>\n",
       "      <th>Sanders</th>\n",
       "      <th>Bloomberg</th>\n",
       "      <th>Warren</th>\n",
       "      <th>Other</th>\n",
       "      <th>Total</th>\n",
       "    </tr>\n",
       "  </thead>\n",
       "  <tbody>\n",
       "    <tr>\n",
       "      <th>0</th>\n",
       "      <td>AL</td>\n",
       "      <td>11</td>\n",
       "      <td>286067</td>\n",
       "      <td>74867</td>\n",
       "      <td>52750</td>\n",
       "      <td>25847</td>\n",
       "      <td>12784</td>\n",
       "      <td>452315</td>\n",
       "    </tr>\n",
       "    <tr>\n",
       "      <th>1</th>\n",
       "      <td>AR</td>\n",
       "      <td>7</td>\n",
       "      <td>92998</td>\n",
       "      <td>51294</td>\n",
       "      <td>38324</td>\n",
       "      <td>22918</td>\n",
       "      <td>23865</td>\n",
       "      <td>229399</td>\n",
       "    </tr>\n",
       "    <tr>\n",
       "      <th>2</th>\n",
       "      <td>ME</td>\n",
       "      <td>5</td>\n",
       "      <td>68418</td>\n",
       "      <td>65894</td>\n",
       "      <td>24124</td>\n",
       "      <td>31530</td>\n",
       "      <td>10380</td>\n",
       "      <td>200346</td>\n",
       "    </tr>\n",
       "    <tr>\n",
       "      <th>3</th>\n",
       "      <td>MA</td>\n",
       "      <td>20</td>\n",
       "      <td>470448</td>\n",
       "      <td>373221</td>\n",
       "      <td>164538</td>\n",
       "      <td>299700</td>\n",
       "      <td>92138</td>\n",
       "      <td>1397682</td>\n",
       "    </tr>\n",
       "    <tr>\n",
       "      <th>4</th>\n",
       "      <td>MN</td>\n",
       "      <td>16</td>\n",
       "      <td>287553</td>\n",
       "      <td>222431</td>\n",
       "      <td>61882</td>\n",
       "      <td>114674</td>\n",
       "      <td>57658</td>\n",
       "      <td>744198</td>\n",
       "    </tr>\n",
       "  </tbody>\n",
       "</table>\n",
       "</div>"
      ],
      "text/plain": [
       "  State  Delegates   Biden  Sanders  Bloomberg  Warren  Other    Total\n",
       "0    AL         11  286067    74867      52750   25847  12784   452315\n",
       "1    AR          7   92998    51294      38324   22918  23865   229399\n",
       "2    ME          5   68418    65894      24124   31530  10380   200346\n",
       "3    MA         20  470448   373221     164538  299700  92138  1397682\n",
       "4    MN         16  287553   222431      61882  114674  57658   744198"
      ]
     },
     "execution_count": 44,
     "metadata": {},
     "output_type": "execute_result"
    }
   ],
   "source": [
    "ST_results = pd.read_csv(\"ST_bydistrict_TGP.csv\")\n",
    "ST_results.head()"
   ]
  },
  {
   "cell_type": "code",
   "execution_count": 36,
   "metadata": {},
   "outputs": [],
   "source": [
    "# default values from Morning Consult poll: \n",
    "#  https://morningconsult.com/2020/03/05/sanders-biden-can-expect-near-equal-gain-from-warrens-exit/\n",
    "def split_warren_votes(pre_split_votes = ST_results, warren_to_biden = .36, warren_to_sanders = .43):\n",
    "    # normalize (assume all EW supporters go either to JB or BS)\n",
    "    biden_gain = warren_to_biden/(warren_to_biden + warren_to_sanders)\n",
    "    sanders_gain = warren_to_sanders/(warren_to_biden + warren_to_sanders)\n",
    "    \n",
    "    # copy original DF so we don't break anything\n",
    "    post = pre_split_votes.copy()\n",
    "    \n",
    "    # add Warren's votes to Biden and Sanders as needed\n",
    "    post.Biden = post.Biden + round(biden_gain * post.Warren)\n",
    "    post.Sanders = post.Sanders + round(sanders_gain * post.Warren)\n",
    "    post.Warren = 0\n",
    "    return post\n",
    "\n",
    "# apportion delegates according to 15% threshold rules\n",
    "def apportion_delegates_threshold(votes = ST_results, threshold = 0.15):\n",
    "    delegates = votes.copy()\n",
    "    delegates = delegates.drop('Other', axis = 1)\n",
    "    candidates = ['Biden', 'Sanders', 'Warren', 'Bloomberg']\n",
    "    for c in candidates:\n",
    "        delegates[c] = delegates[c]/delegates.Total\n",
    "    delegates[candidates] = delegates[candidates].applymap(lambda x: x if x >= threshold else 0)\n",
    "    delegates[\"viable_tot\"] = delegates[candidates].sum(axis = 1)\n",
    "    for c in candidates:\n",
    "        delegates[c] = (delegates[c]/delegates.viable_tot) * delegates['Delegates']\n",
    "    # now we apportion fractional delegates as per DNC rules\n",
    "    dels_copy = delegates.copy()\n",
    "    for idx, row in dels_copy.iterrows():\n",
    "        dels_dict = {}\n",
    "        dels_dict_full = {}\n",
    "        dels_dict_partial = {}\n",
    "        for c in candidates:\n",
    "            dels_dict[c] = row[c]\n",
    "            dels_dict_full[c] = math.floor(row[c])\n",
    "            dels_dict_partial[c] = dels_dict[c] - dels_dict_full[c]\n",
    "        full = sum(dels_dict_full.values())\n",
    "        fractional = row['Delegates'] - full\n",
    "        \n",
    "        # allocate partial delegates\n",
    "        while fractional > 0:\n",
    "            top = max(dels_dict_partial.items(), key=operator.itemgetter(1))[0]\n",
    "            dels_dict_partial[top] = 0\n",
    "            dels_dict_full[top] += 1\n",
    "            fractional -= 1\n",
    "        for c, ds in dels_dict_full.items():\n",
    "            delegates.at[idx, c] = ds\n",
    "    return delegates\n",
    "    \n",
    "\n",
    "# apportion delegates purely proportionally (just a shortcut)\n",
    "def apportion_delegates_prop(votes = ST_results):\n",
    "    return apportion_delegates_threshold(votes = votes, threshold = 0)\n",
    "\n",
    "# get the biden net delegate gain\n",
    "def get_biden_net(split, votes = ST_results, threshold = 0.15):\n",
    "    post_split = split_warren_votes(pre_split_votes = votes, warren_to_biden = split, warren_to_sanders = 1 - split)\n",
    "    dels = apportion_delegates_threshold(votes = post_split)\n",
    "    return sum(dels.Biden) - sum(dels.Sanders)"
   ]
  },
  {
   "cell_type": "code",
   "execution_count": 45,
   "metadata": {},
   "outputs": [
    {
     "data": {
      "text/plain": [
       "87.0"
      ]
     },
     "execution_count": 45,
     "metadata": {},
     "output_type": "execute_result"
    }
   ],
   "source": [
    "# check process (we want this to end up being 89)\n",
    "no_change = apportion_delegates_threshold()\n",
    "tots = no_change.sum()\n",
    "tots['Biden'] - tots['Sanders']\n",
    "\n",
    "# note: we get this as 87, we _want_ it to be 89\n",
    "#  in a more detailed analysis, I would care more about this\n",
    "#  but this is essentially a rounding error so I'm not super worried"
   ]
  },
  {
   "cell_type": "code",
   "execution_count": 46,
   "metadata": {
    "collapsed": true
   },
   "outputs": [],
   "source": [
    "splits = np.linspace(0,1,101)\n",
    "net_dels_biden = []\n",
    "for split in splits:\n",
    "    net_dels_biden.append(get_biden_net(split))"
   ]
  },
  {
   "cell_type": "code",
   "execution_count": 47,
   "metadata": {
    "collapsed": true
   },
   "outputs": [],
   "source": [
    "net_dels_biden_no_threshold = []\n",
    "for split in splits:\n",
    "    post_split = split_warren_votes(warren_to_biden = split, warren_to_sanders = 1 - split)\n",
    "    dels = apportion_delegates_threshold(votes = post_split, threshold = 0)\n",
    "    net = sum(dels.Biden) - sum(dels.Sanders)\n",
    "    net_dels_biden_no_threshold.append(net)"
   ]
  },
  {
   "cell_type": "code",
   "execution_count": 48,
   "metadata": {},
   "outputs": [
    {
     "name": "stdout",
     "output_type": "stream",
     "text": [
      "Net Biden delegates with MC undecideds breaking as decideds: 50.0\n",
      "Net Biden delegates with MC undecideds breaking Sanders    : 12.0\n"
     ]
    }
   ],
   "source": [
    "# according to the Morning Consult poll\n",
    "mc_breakequal = .4557\n",
    "mc_endorse = .36\n",
    "intersects = [get_biden_net(.4557), get_biden_net(.36)]\n",
    "print(\"Net Biden delegates with MC undecideds breaking as decideds: \" + str(intersects[0]))\n",
    "print(\"Net Biden delegates with MC undecideds breaking Sanders    : \" + str(intersects[1]))\n",
    "ST_actual_net = 89"
   ]
  },
  {
   "cell_type": "code",
   "execution_count": 55,
   "metadata": {},
   "outputs": [
    {
     "data": {
      "image/png": "[encoded data removed]",
      "text/plain": [
       "<Figure size 921.6x633.6 with 1 Axes>"
      ]
     },
     "metadata": {},
     "output_type": "display_data"
    }
   ],
   "source": [
    "with sns.plotting_context(\"poster\"):\n",
    "    sns.set_style('white')\n",
    "    plt.scatter(splits, net_dels_biden, s = 9)\n",
    "    plt.ylabel(\"Biden delegate gain from ST\")\n",
    "    plt.xlabel(\"% of Warren voters voting for Biden\")\n",
    "    plt.hlines(ST_actual_net, 0, 1, color = 'red', alpha = 0.5, label = 'Actual ST result')\n",
    "    plt.text(0, ST_actual_net + 4, \"Actual ST result\")\n",
    "    plt.vlines([mc_breakequal, mc_endorse], plt.ylim()[0], intersects, color = ['g', 'c'])\n",
    "    plt.grid(which = 'major', axis = 'y')\n",
    "    plt.title(\"Biden delegate gain by % of Warren voters\")\n",
    "    sns.despine()\n",
    "    plt.savefig(\"dnc_threshold.png\")\n",
    "    plt.show()"
   ]
  },
  {
   "cell_type": "code",
   "execution_count": 56,
   "metadata": {
    "collapsed": true
   },
   "outputs": [],
   "source": [
    "# find out pct of Warren vote Sanders would have needed \n",
    "#  to keep Biden gain to X number of delegates\n",
    "def warren_votes_needed(X, dels = net_dels_biden, pct = splits):\n",
    "    for i in range(len(net_dels_biden)):\n",
    "        if dels[i] > X:\n",
    "            return pct[i-1]\n",
    "    return None"
   ]
  },
  {
   "cell_type": "code",
   "execution_count": 57,
   "metadata": {},
   "outputs": [
    {
     "name": "stdout",
     "output_type": "stream",
     "text": [
      "Portion of Warren voters Sanders needed to WIN Super Tuesday delegates: 0.3\n",
      "Portion of Warren voters Sanders needed to lead after Super Tuesday   : 0.34\n"
     ]
    }
   ],
   "source": [
    "print(\"Portion of Warren voters Sanders needed to WIN Super Tuesday delegates: \" + str(warren_votes_needed(0)))\n",
    "print(\"Portion of Warren voters Sanders needed to lead after Super Tuesday   : \" + str(warren_votes_needed(7)))"
   ]
  },
  {
   "cell_type": "code",
   "execution_count": null,
   "metadata": {
    "collapsed": true
   },
   "outputs": [],
   "source": []
  }
 ],
 "metadata": {
  "kernelspec": {
   "display_name": "Python 3",
   "language": "python",
   "name": "python3"
  },
  "language_info": {
   "codemirror_mode": {
    "name": "ipython",
    "version": 3
   },
   "file_extension": ".py",
   "mimetype": "text/x-python",
   "name": "python",
   "nbconvert_exporter": "python",
   "pygments_lexer": "ipython3",
   "version": "3.6.1"
  }
 },
 "nbformat": 4,
 "nbformat_minor": 2
}
